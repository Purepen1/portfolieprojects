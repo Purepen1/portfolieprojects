{
 "cells": [
  {
   "cell_type": "code",
   "execution_count": 9,
   "id": "cae6f916",
   "metadata": {},
   "outputs": [
    {
     "name": "stdout",
     "output_type": "stream",
     "text": [
      "input your name:Mike\n",
      "input your weight:12\n",
      "input your height:12\n",
      "Mike, your BMI result is:5\n",
      "Mike,you are underweight\n"
     ]
    }
   ],
   "source": [
    "name= input('input your name:')\n",
    "weight= int(input('input your weight:'))\n",
    "height= int(input('input your height:'))\n",
    "BMI= int((weight*70)/(height*height))\n",
    "print(name+ ', your BMI result is:'+ str(BMI))\n",
    "if BMI>=0:\n",
    "    if(BMI<18.5):\n",
    "        print(name +',''you are underweight')\n",
    "    elif(BMI<24.9):\n",
    "        print(name +',''you are normalweight ')\n",
    "    elif(BMI<29.9):\n",
    "        print(name +',''you are overweight ')\n",
    "    elif(BMI<34.9):\n",
    "        print(name +',''you are obese ')\n",
    "    elif(BMI<39.9):\n",
    "        print(name +',''you are severely obese ')\n",
    "else:\n",
    "    print('Enter valid details')"
   ]
  },
  {
   "cell_type": "code",
   "execution_count": null,
   "id": "5e6e0bd5",
   "metadata": {},
   "outputs": [],
   "source": []
  },
  {
   "cell_type": "code",
   "execution_count": null,
   "id": "7c03e4d9",
   "metadata": {},
   "outputs": [],
   "source": []
  },
  {
   "cell_type": "code",
   "execution_count": null,
   "id": "57c454b9",
   "metadata": {},
   "outputs": [],
   "source": []
  },
  {
   "cell_type": "code",
   "execution_count": null,
   "id": "e8c4bdac",
   "metadata": {},
   "outputs": [],
   "source": []
  },
  {
   "cell_type": "code",
   "execution_count": null,
   "id": "9881030d",
   "metadata": {},
   "outputs": [],
   "source": []
  },
  {
   "cell_type": "code",
   "execution_count": null,
   "id": "6e1b7a5e",
   "metadata": {},
   "outputs": [],
   "source": []
  }
 ],
 "metadata": {
  "kernelspec": {
   "display_name": "Python 3 (ipykernel)",
   "language": "python",
   "name": "python3"
  },
  "language_info": {
   "codemirror_mode": {
    "name": "ipython",
    "version": 3
   },
   "file_extension": ".py",
   "mimetype": "text/x-python",
   "name": "python",
   "nbconvert_exporter": "python",
   "pygments_lexer": "ipython3",
   "version": "3.9.13"
  }
 },
 "nbformat": 4,
 "nbformat_minor": 5
}
