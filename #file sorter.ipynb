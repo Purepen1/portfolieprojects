{
 "cells": [
  {
   "cell_type": "code",
   "execution_count": 36,
   "id": "74c4666c",
   "metadata": {},
   "outputs": [],
   "source": [
    "import os, shutil"
   ]
  },
  {
   "cell_type": "code",
   "execution_count": 37,
   "id": "68cbd2a0",
   "metadata": {},
   "outputs": [],
   "source": [
    "path = r\"C:/Users/DELL/Downloads/\""
   ]
  },
  {
   "cell_type": "code",
   "execution_count": 38,
   "id": "66416438",
   "metadata": {},
   "outputs": [],
   "source": [
    "file_name = os.listdir(path)"
   ]
  },
  {
   "cell_type": "code",
   "execution_count": 41,
   "id": "5fd16ff0",
   "metadata": {},
   "outputs": [],
   "source": [
    "folder_names = ['application files','png files','zip files','video files','pdf files','picture files','document files']\n",
    "for folders in range(0,7):\n",
    "       if not os.path.exists(path + folder_names[folders]):\n",
    "            print(path + folder_names[folders])\n",
    "            os.makedirs(path + folder_names[folders])\n"
   ]
  },
  {
   "cell_type": "code",
   "execution_count": 45,
   "id": "36302d1f",
   "metadata": {},
   "outputs": [
    {
     "name": "stdout",
     "output_type": "stream",
     "text": [
      "\n",
      "\n",
      "\n",
      "\n",
      "\n",
      "\n",
      "\n",
      "\n",
      "\n",
      "\n",
      "\n",
      "\n",
      "\n",
      "\n",
      "\n",
      "\n",
      "\n",
      "\n",
      "\n",
      "\n",
      "\n",
      "\n",
      "\n",
      "\n",
      "\n",
      "\n",
      "\n",
      "\n",
      "\n",
      "\n",
      "\n",
      "\n",
      "\n",
      "\n",
      "\n",
      "\n",
      "\n",
      "\n",
      "\n",
      "\n",
      "\n",
      "\n",
      "\n",
      "\n",
      "\n",
      "\n",
      "\n",
      "\n",
      "\n",
      "\n",
      "\n",
      "\n",
      "\n",
      "\n",
      "\n",
      "\n",
      "\n",
      "\n",
      "\n",
      "\n",
      "\n",
      "\n",
      "\n",
      "\n",
      "\n",
      "\n",
      "\n",
      "\n",
      "\n",
      "\n",
      "\n",
      "\n",
      "\n",
      "\n",
      "\n",
      "\n",
      "\n",
      "\n",
      "\n",
      "\n",
      "\n",
      "\n",
      "\n",
      "\n",
      "\n",
      "\n",
      "\n",
      "\n",
      "\n",
      "\n"
     ]
    }
   ],
   "source": [
    "for file in file_name:\n",
    "    if \".exe\" in file and not os.path.exists(path + \"application files/\" + file):\n",
    "        shutil.move(path +  file,path + \"application files/\" + file)\n",
    "    elif \".png\" in file and not os.path.exists(path + \"png files\" + file):\n",
    "        shutil.move(path +  file, path + \"png files/\" + file)\n",
    "    elif \".zip\" in file and not os.path.exists(path + \"zip files\" + file):\n",
    "        shutil.move(path +  file,  path + \"zip files/\" + file)\n",
    "    elif \".rar\" in file and not os.path.exists(path + \"zip files\" + file):\n",
    "        shutil.move(path +  file,  path + \"zip files/\" + file)\n",
    "    elif \".mp4\" in file and not os.path.exists(path + \"video file\" + file):\n",
    "        shutil.move(path +  file,  path + \"video files/\" + file)\n",
    "    elif \".pdf\" in file and not os.path.exists(path + \"pdf files/\" + file):\n",
    "        shutil.move(path +  file, path + \"pdf files/\" + file)\n",
    "    elif \".jpg\" in file and not os.path.exists(path + \"picture files\" + file):\n",
    "        shutil.move(path +  file,  path + \"picture files/\" + file)\n",
    "    elif \".jpeg\" in file and not os.path.exists(path + \"picture files/\" + file):\n",
    "        shutil.move(path +  file,path + \"picture files/\" + file)\n",
    "    elif \".JPG\" in file and not os.path.exists(path + \"picture files/\" + file):\n",
    "        shutil.move(path +  file,path + \"picture files/\" + file)\n",
    "    elif \".docx\" in file and not os.path.exists(path + \"document files/\" + file):\n",
    "        shutil.move(path +  file,path + \"document files/\" + file)\n",
    "    elif \".webp\" in file and not os.path.exists(path + \"document files/\" + file):\n",
    "        shutil.move(path +  file,path + \"document files/\" + file)\n",
    "    elif \".pbiviz\" in file and not os.path.exists(path + \"document files/\" + file):\n",
    "        shutil.move(path +  file,path + \"document files/\" + file)\n",
    "    elif \".xlsx\" in file and not os.path.exists(path + \"document files/\" + file):\n",
    "        shutil.move(path +  file,path + \"document files/\" + file)\n",
    "    elif \".txt\" in file and not os.path.exists(path + \"document files/\" + file):\n",
    "        shutil.move(path +  file,path + \"document files/\" + file)\n",
    "    else:\n",
    "        print('')"
   ]
  },
  {
   "cell_type": "code",
   "execution_count": null,
   "id": "5cab0196",
   "metadata": {},
   "outputs": [],
   "source": []
  },
  {
   "cell_type": "code",
   "execution_count": null,
   "id": "6536c3cb",
   "metadata": {},
   "outputs": [],
   "source": []
  },
  {
   "cell_type": "code",
   "execution_count": null,
   "id": "50c66d39",
   "metadata": {},
   "outputs": [],
   "source": []
  },
  {
   "cell_type": "code",
   "execution_count": null,
   "id": "2fefad54",
   "metadata": {},
   "outputs": [],
   "source": []
  },
  {
   "cell_type": "code",
   "execution_count": null,
   "id": "9a88dfdc",
   "metadata": {},
   "outputs": [],
   "source": []
  },
  {
   "cell_type": "code",
   "execution_count": null,
   "id": "ac43d9c0",
   "metadata": {},
   "outputs": [],
   "source": []
  },
  {
   "cell_type": "code",
   "execution_count": null,
   "id": "50e7b358",
   "metadata": {},
   "outputs": [],
   "source": []
  },
  {
   "cell_type": "code",
   "execution_count": null,
   "id": "1a3f817b",
   "metadata": {},
   "outputs": [],
   "source": []
  },
  {
   "cell_type": "code",
   "execution_count": null,
   "id": "4a445acc",
   "metadata": {},
   "outputs": [],
   "source": []
  }
 ],
 "metadata": {
  "kernelspec": {
   "display_name": "Python 3 (ipykernel)",
   "language": "python",
   "name": "python3"
  },
  "language_info": {
   "codemirror_mode": {
    "name": "ipython",
    "version": 3
   },
   "file_extension": ".py",
   "mimetype": "text/x-python",
   "name": "python",
   "nbconvert_exporter": "python",
   "pygments_lexer": "ipython3",
   "version": "3.9.13"
  }
 },
 "nbformat": 4,
 "nbformat_minor": 5
}
